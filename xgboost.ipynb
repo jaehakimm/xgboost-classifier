{
  "nbformat": 4,
  "nbformat_minor": 0,
  "metadata": {
    "colab": {
      "provenance": [],
      "authorship_tag": "ABX9TyP9rTmmRgvBOx+/haq1cuFV"
    },
    "kernelspec": {
      "name": "python3",
      "display_name": "Python 3"
    },
    "language_info": {
      "name": "python"
    }
  },
  "cells": [
    {
      "cell_type": "code",
      "execution_count": 1,
      "metadata": {
        "id": "lBqgzhZjedw6"
      },
      "outputs": [],
      "source": [
        "import pandas as pd\n",
        "import numpy as np\n",
        "import seaborn as sns\n",
        "import time\n",
        "\n",
        "from sklearn.datasets import load_breast_cancer\n",
        "from sklearn.model_selection import train_test_split\n",
        "from sklearn.ensemble import RandomForestClassifier\n",
        "from sklearn.metrics import accuracy_score, average_precision_score, f1_score\n",
        "from sklearn.preprocessing import LabelEncoder\n",
        "\n",
        "import xgboost as xgb"
      ]
    },
    {
      "cell_type": "code",
      "source": [
        "dataset_bc = load_breast_cancer()\n",
        "X = pd.DataFrame(dataset_bc.data, columns=dataset_bc.feature_names)\n",
        "y = pd.Series(dataset_bc.target)"
      ],
      "metadata": {
        "id": "-_WJlAL5eyHZ"
      },
      "execution_count": 2,
      "outputs": []
    },
    {
      "cell_type": "code",
      "source": [
        "# Encode string\n",
        "label_encoder = LabelEncoder()\n",
        "label_encoder = label_encoder.fit(y)\n",
        "y = label_encoder.transform(y)"
      ],
      "metadata": {
        "id": "pDwwmXoAfKUo"
      },
      "execution_count": 3,
      "outputs": []
    },
    {
      "cell_type": "code",
      "source": [
        "# Split data 60% train 20% val, 20% test\n",
        "X_train, X_test, y_train, y_test = train_test_split(X, y, test_size=0.2, random_state=42)\n",
        "X_train, X_val, y_train, y_val = train_test_split(X_train, y_train, test_size=0.25, random_state=1337)"
      ],
      "metadata": {
        "id": "zb_K49EMfR0M"
      },
      "execution_count": 4,
      "outputs": []
    },
    {
      "cell_type": "code",
      "source": [
        "clf = RandomForestClassifier(max_depth=2, random_state=1337)\n",
        "clf.fit(X_train, y_train)\n",
        "accuracy_score(y_test, clf.predict(X_test))"
      ],
      "metadata": {
        "colab": {
          "base_uri": "https://localhost:8080/"
        },
        "id": "xfeQUKg8fpwY",
        "outputId": "da0ad520-8a31-4ecb-bee2-811cbdcb1bf9"
      },
      "execution_count": 6,
      "outputs": [
        {
          "output_type": "execute_result",
          "data": {
            "text/plain": [
              "0.956140350877193"
            ]
          },
          "metadata": {},
          "execution_count": 6
        }
      ]
    },
    {
      "cell_type": "code",
      "source": [
        "weights = (y == 0).sum() / (1.0 * (y == 1).sum())\n",
        "weights"
      ],
      "metadata": {
        "colab": {
          "base_uri": "https://localhost:8080/"
        },
        "id": "XFLl6urWgiyR",
        "outputId": "7cbd244a-009c-4f01-960d-a7af8965da69"
      },
      "execution_count": 10,
      "outputs": [
        {
          "output_type": "execute_result",
          "data": {
            "text/plain": [
              "0.5938375350140056"
            ]
          },
          "metadata": {},
          "execution_count": 10
        }
      ]
    },
    {
      "cell_type": "code",
      "source": [
        "model = xgb.XGBClassifier(\n",
        "    scale_pos_weight=weights,\n",
        "    n_jobs=4,\n",
        "    objective='binary:logistic',\n",
        "    use_label_encoder=False,\n",
        "    eval_metric='logloss'\n",
        ")\n",
        "\n",
        "start = time.time()\n",
        "modelfit = model.fit(X_train, y_train)\n",
        "fittingTime = time.time() - start\n",
        "\n",
        "start = time.time()\n",
        "prediction = modelfit.predict(X_test)\n",
        "InferenceTime = time.time() - start\n",
        "\n",
        "F1score = f1_score(y_test, prediction)\n",
        "\n",
        "# Get probabilities and calculate metrics\n",
        "probabilities = modelfit.predict_proba(X_test)\n",
        "AUPRC = average_precision_score(y_test, probabilities[:, 1])\n",
        "acc = accuracy_score(y_test, prediction)\n",
        "\n",
        "print('AUPRC = {:.4f}'.format(AUPRC))\n",
        "print('F1 Score = {:.4f}'.format(F1score))\n",
        "print('Fitting Time = {:.4f}'.format(fittingTime))\n",
        "print('Inference Time = {:.4f}'.format(InferenceTime))\n",
        "print('Accuracy = {:.4f}'.format(acc))"
      ],
      "metadata": {
        "colab": {
          "base_uri": "https://localhost:8080/"
        },
        "id": "Jj0m7aO0fw30",
        "outputId": "e15d96b2-6c44-4e0f-eb4b-604172079790"
      },
      "execution_count": 12,
      "outputs": [
        {
          "output_type": "stream",
          "name": "stdout",
          "text": [
            "AUPRC = 0.9950\n",
            "F1 Score = 0.9790\n",
            "Fitting Time = 0.1617\n",
            "Inference Time = 0.0145\n",
            "Accuracy = 0.9737\n"
          ]
        }
      ]
    }
  ]
}